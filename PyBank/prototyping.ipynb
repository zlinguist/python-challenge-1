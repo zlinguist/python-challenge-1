{
 "cells": [
  {
   "cell_type": "code",
   "execution_count": 1,
   "metadata": {},
   "outputs": [],
   "source": [
    "import os\n",
    "import csv"
   ]
  },
  {
   "cell_type": "code",
   "execution_count": 9,
   "metadata": {},
   "outputs": [],
   "source": [
    "budget_csv = os.path.join(\"Data\", \"budget_data.csv\")"
   ]
  },
  {
   "cell_type": "code",
   "execution_count": 10,
   "metadata": {},
   "outputs": [
    {
     "name": "stdout",
     "output_type": "stream",
     "text": [
      "Data/budget_data.csv\n"
     ]
    }
   ],
   "source": [
    "print(budget_csv)"
   ]
  },
  {
   "cell_type": "code",
   "execution_count": 12,
   "metadata": {},
   "outputs": [
    {
     "name": "stdout",
     "output_type": "stream",
     "text": [
      "-rw-r--r--  1 zach  staff  1499 Feb 14 10:53 Data/budget_data.csv\r\n"
     ]
    }
   ],
   "source": [
    "!ls -l Data/budget_data.csv"
   ]
  },
  {
   "cell_type": "code",
   "execution_count": 13,
   "metadata": {},
   "outputs": [
    {
     "name": "stdout",
     "output_type": "stream",
     "text": [
      "Date,Profit/Losses\r",
      "\r\n",
      "Jan-2010,867884\r",
      "\r\n",
      "Feb-2010,984655\r",
      "\r\n",
      "Mar-2010,322013\r",
      "\r\n",
      "Apr-2010,-69417\r",
      "\r\n"
     ]
    }
   ],
   "source": [
    "!head -n 5 Data/budget_data.csv"
   ]
  },
  {
   "cell_type": "code",
   "execution_count": 23,
   "metadata": {},
   "outputs": [
    {
     "name": "stdout",
     "output_type": "stream",
     "text": [
      "['Date', 'Profit/Losses']\n",
      "86 38382578\n"
     ]
    }
   ],
   "source": [
    "with open(budget_csv) as csvfile:\n",
    "    csvreader = csv.reader(csvfile, delimiter=\",\")\n",
    "    header = next(csvreader)\n",
    "    print(header)\n",
    "#     for row in csvreader:\n",
    "#         print(row[1])\n",
    "#         break\n",
    "    number_months = 0\n",
    "    total_amount = 0\n",
    "    for row in csvreader:\n",
    "        number_months += 1\n",
    "        total_amount += int(row[1])\n",
    "    print(number_months, total_amount)"
   ]
  },
  {
   "cell_type": "code",
   "execution_count": 32,
   "metadata": {},
   "outputs": [
    {
     "name": "stdout",
     "output_type": "stream",
     "text": [
      "[116771, -662642, -391430, 379920, 212354]\n",
      "['Feb-2012', 1926159]\n",
      "['Sep-2013', -2196167]\n"
     ]
    }
   ],
   "source": [
    "with open(budget_csv) as csvfile:\n",
    "    csvreader = csv.reader(csvfile, delimiter=\",\")\n",
    "    header = next(csvreader)\n",
    "    previous_value = None\n",
    "    changes = []\n",
    "    greatest_increase = [\"\", 0]\n",
    "    greatest_decrease = [\"\", 0]\n",
    "    for row in csvreader:\n",
    "        if previous_value:\n",
    "            change = int(row[1]) - previous_value\n",
    "            changes.append(change)\n",
    "            if change > greatest_increase[1]:\n",
    "                greatest_increase = [row[0], change]\n",
    "            elif change < greatest_decrease[1]:\n",
    "                greatest_decrease = [row[0], change]\n",
    "        previous_value = int(row[1])\n",
    "#     print(changes[:5])\n",
    "    print(greatest_increase)\n",
    "    print(greatest_decrease)"
   ]
  },
  {
   "cell_type": "code",
   "execution_count": 33,
   "metadata": {},
   "outputs": [
    {
     "name": "stdout",
     "output_type": "stream",
     "text": [
      "['Feb-2012', 1926159]\n",
      "['Sep-2013', -2196167]\n",
      "-2315.1176470588234\n"
     ]
    }
   ],
   "source": [
    "with open(budget_csv) as csvfile:\n",
    "    csvreader = csv.reader(csvfile, delimiter=\",\")\n",
    "    header = next(csvreader)\n",
    "    previous_value = None\n",
    "    changes = []\n",
    "    greatest_increase = [\"\", 0]\n",
    "    greatest_decrease = [\"\", 0]\n",
    "    for row in csvreader:\n",
    "        if previous_value:\n",
    "            change = int(row[1]) - previous_value\n",
    "            changes.append(change)\n",
    "            if change > greatest_increase[1]:\n",
    "                greatest_increase = [row[0], change]\n",
    "            elif change < greatest_decrease[1]:\n",
    "                greatest_decrease = [row[0], change]\n",
    "        previous_value = int(row[1])\n",
    "#     print(changes[:5])\n",
    "    print(greatest_increase)\n",
    "    print(greatest_decrease)\n",
    "    total_change = 0\n",
    "    for value in changes:\n",
    "        total_change += value\n",
    "    average_change = total_change / len(changes)\n",
    "    print(average_change)"
   ]
  },
  {
   "cell_type": "code",
   "execution_count": 34,
   "metadata": {},
   "outputs": [],
   "source": [
    "# need both print to terminal and export a text file\n",
    "# also, for final version, wrap this into a main() function in the file and then call the function"
   ]
  },
  {
   "cell_type": "code",
   "execution_count": 43,
   "metadata": {},
   "outputs": [
    {
     "name": "stdout",
     "output_type": "stream",
     "text": [
      "Financial Analysis\n",
      "--------------------------------\n",
      "Total Months: 86\n",
      "Total: $38382578\n",
      "Average Change: -2315.12\n",
      "Greatest Increase in Profits: Feb-2012 ($1926159)\n",
      "Greatest Decrease in Profits: Sep-2013 ($-2196167)\n"
     ]
    }
   ],
   "source": [
    "with open(budget_csv) as csvfile:\n",
    "    csvreader = csv.reader(csvfile, delimiter=\",\")\n",
    "    header = next(csvreader)\n",
    "    previous_value = None\n",
    "    changes = []\n",
    "    greatest_increase = [\"\", 0]\n",
    "    greatest_decrease = [\"\", 0]\n",
    "    number_months = 0\n",
    "    total_change = 0\n",
    "    total_amount = 0\n",
    "    for row in csvreader:\n",
    "        if previous_value:\n",
    "            change = int(row[1]) - previous_value\n",
    "            changes.append(change)\n",
    "            if change > greatest_increase[1]:\n",
    "                greatest_increase = [row[0], change]\n",
    "            elif change < greatest_decrease[1]:\n",
    "                greatest_decrease = [row[0], change]\n",
    "        previous_value = int(row[1])\n",
    "        number_months += 1\n",
    "        total_amount += int(row[1])\n",
    "#     print(changes[:5])\n",
    "#     print(greatest_increase)\n",
    "#     print(greatest_decrease)\n",
    "    for value in changes:\n",
    "        total_change += value\n",
    "    average_change = total_change / len(changes)\n",
    "#     print(average_change)\n",
    "    print(\"Financial Analysis\")\n",
    "    print(\"--------------------------------\")\n",
    "    print(f'Total Months: {number_months}')\n",
    "    print(f'Total: ${total_amount}')\n",
    "    print(\"Average Change: {0:.2f}\".format(round(average_change, 2)))\n",
    "    print(f'Greatest Increase in Profits: {greatest_increase[0]} (${greatest_increase[1]})')\n",
    "    print(f'Greatest Decrease in Profits: {greatest_decrease[0]} (${greatest_decrease[1]})')"
   ]
  },
  {
   "cell_type": "code",
   "execution_count": 44,
   "metadata": {},
   "outputs": [
    {
     "ename": "TypeError",
     "evalue": "write() argument must be str, not ellipsis",
     "output_type": "error",
     "traceback": [
      "\u001b[0;31m---------------------------------------------------------------------------\u001b[0m",
      "\u001b[0;31mTypeError\u001b[0m                                 Traceback (most recent call last)",
      "\u001b[0;32m<ipython-input-44-f313074f4e66>\u001b[0m in \u001b[0;36m<module>\u001b[0;34m\u001b[0m\n\u001b[1;32m      1\u001b[0m \u001b[0mf\u001b[0m \u001b[0;34m=\u001b[0m \u001b[0mopen\u001b[0m\u001b[0;34m(\u001b[0m\u001b[0;34m\"financial_analysis.txt\"\u001b[0m\u001b[0;34m,\u001b[0m \u001b[0mmode\u001b[0m\u001b[0;34m=\u001b[0m\u001b[0;34m\"w\"\u001b[0m\u001b[0;34m)\u001b[0m\u001b[0;34m\u001b[0m\u001b[0;34m\u001b[0m\u001b[0m\n\u001b[0;32m----> 2\u001b[0;31m \u001b[0mf\u001b[0m\u001b[0;34m.\u001b[0m\u001b[0mwrite\u001b[0m\u001b[0;34m(\u001b[0m\u001b[0;34m...\u001b[0m\u001b[0;34m)\u001b[0m\u001b[0;34m\u001b[0m\u001b[0;34m\u001b[0m\u001b[0m\n\u001b[0m",
      "\u001b[0;31mTypeError\u001b[0m: write() argument must be str, not ellipsis"
     ]
    }
   ],
   "source": [
    "f = open(\"financial_analysis.txt\", mode=\"w\")\n",
    "f.write(...)"
   ]
  },
  {
   "cell_type": "code",
   "execution_count": null,
   "metadata": {},
   "outputs": [],
   "source": []
  }
 ],
 "metadata": {
  "kernelspec": {
   "display_name": "Python 3",
   "language": "python",
   "name": "python3"
  },
  "language_info": {
   "codemirror_mode": {
    "name": "ipython",
    "version": 3
   },
   "file_extension": ".py",
   "mimetype": "text/x-python",
   "name": "python",
   "nbconvert_exporter": "python",
   "pygments_lexer": "ipython3",
   "version": "3.6.10"
  }
 },
 "nbformat": 4,
 "nbformat_minor": 4
}
