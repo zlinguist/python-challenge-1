{
 "cells": [
  {
   "cell_type": "code",
   "execution_count": 1,
   "metadata": {},
   "outputs": [],
   "source": [
    "import os\n",
    "import csv"
   ]
  },
  {
   "cell_type": "code",
   "execution_count": 2,
   "metadata": {},
   "outputs": [],
   "source": [
    "poll_csv = os.path.join(\"Data\", \"election_data.csv\")"
   ]
  },
  {
   "cell_type": "code",
   "execution_count": 8,
   "metadata": {},
   "outputs": [
    {
     "name": "stdout",
     "output_type": "stream",
     "text": [
      "['Voter ID', 'County', 'Candidate']\n"
     ]
    }
   ],
   "source": [
    "with open(poll_csv, mode=\"r\") as poll_file:\n",
    "    reader = csv.reader(poll_file)\n",
    "#     for row in reader:\n",
    "#         print(row)\n",
    "#         break\n",
    "    header = next(reader)\n",
    "    print(header)     "
   ]
  },
  {
   "cell_type": "code",
   "execution_count": 7,
   "metadata": {},
   "outputs": [
    {
     "name": "stdout",
     "output_type": "stream",
     "text": [
      "3521001\n"
     ]
    }
   ],
   "source": [
    "with open(poll_csv, mode=\"r\") as poll_file:\n",
    "    reader = csv.reader(poll_file)\n",
    "#     for row in reader:\n",
    "#         print(row)\n",
    "#         break\n",
    "    header = next(reader)\n",
    "#     print(header)\n",
    "    total_votes = 0\n",
    "    for row in reader:\n",
    "        total_votes += 1\n",
    "    print(total_votes)"
   ]
  },
  {
   "cell_type": "code",
   "execution_count": 16,
   "metadata": {},
   "outputs": [
    {
     "name": "stdout",
     "output_type": "stream",
     "text": [
      "3521001\n",
      "{'Khan': 2218231, 'Correy': 704200, 'Li': 492940, \"O'Tooley\": 105630}\n"
     ]
    }
   ],
   "source": [
    "with open(poll_csv, mode=\"r\") as poll_file:\n",
    "    reader = csv.reader(poll_file)\n",
    "    header = next(reader)\n",
    "    total_votes = 0\n",
    "    candidate_totals = {}\n",
    "    for row in reader:\n",
    "        total_votes += 1\n",
    "        if row[2] in candidate_totals:\n",
    "            candidate_totals[row[2]] += 1\n",
    "        else:\n",
    "            candidate_totals[row[2]] = 1 \n",
    "    print(total_votes)\n",
    "    print(candidate_totals)"
   ]
  },
  {
   "cell_type": "code",
   "execution_count": 21,
   "metadata": {},
   "outputs": [
    {
     "name": "stdout",
     "output_type": "stream",
     "text": [
      "{'Khan': 63.00001050837531, 'Correy': 19.999994319797125, 'Li': 13.999996023857989, \"O'Tooley\": 2.999999147969569}\n"
     ]
    }
   ],
   "source": [
    "with open(poll_csv, mode=\"r\") as poll_file:\n",
    "    reader = csv.reader(poll_file)\n",
    "    header = next(reader)\n",
    "    total_votes = 0\n",
    "    candidate_totals = {}\n",
    "    for row in reader:\n",
    "        total_votes += 1\n",
    "        if row[2] in candidate_totals:\n",
    "            candidate_totals[row[2]] += 1\n",
    "        else:\n",
    "            candidate_totals[row[2]] = 1\n",
    "    candidate_percentage = {}\n",
    "    for candidate in candidate_totals.keys():\n",
    "        candidate_percentage[candidate] = float(candidate_totals[candidate]/total_votes)*100\n",
    "    print(candidate_percentage)"
   ]
  },
  {
   "cell_type": "code",
   "execution_count": 29,
   "metadata": {},
   "outputs": [
    {
     "name": "stdout",
     "output_type": "stream",
     "text": [
      "Khan 63.000\n",
      "Correy 20.000\n",
      "Li 14.000\n",
      "O'Tooley 3.000\n"
     ]
    }
   ],
   "source": [
    "with open(poll_csv, mode=\"r\") as poll_file:\n",
    "    reader = csv.reader(poll_file)\n",
    "    header = next(reader)\n",
    "    total_votes = 0\n",
    "    candidate_totals = {}\n",
    "    for row in reader:\n",
    "        total_votes += 1\n",
    "        if row[2] in candidate_totals:\n",
    "            candidate_totals[row[2]] += 1\n",
    "        else:\n",
    "            candidate_totals[row[2]] = 1\n",
    "    candidate_percentage = {}\n",
    "    for candidate in candidate_totals.keys():\n",
    "        candidate_percentage[candidate] = float(candidate_totals[candidate]/total_votes)*100\n",
    "#     print(candidate_percentage)\n",
    "    for candidate in candidate_percentage:\n",
    "        print(f'{candidate} {candidate_percentage[candidate]:.3f}')"
   ]
  },
  {
   "cell_type": "code",
   "execution_count": 33,
   "metadata": {},
   "outputs": [
    {
     "name": "stdout",
     "output_type": "stream",
     "text": [
      "Election Results\n",
      "-------------------------\n",
      "Khan: 63.000% (2218231)\n",
      "Correy: 20.000% (704200)\n",
      "Li: 14.000% (492940)\n",
      "O'Tooley: 3.000% (105630)\n",
      "-------------------------\n",
      "Winner: Khan\n",
      "-------------------------\n"
     ]
    }
   ],
   "source": [
    "with open(poll_csv, mode=\"r\") as poll_file:\n",
    "    reader = csv.reader(poll_file)\n",
    "    header = next(reader)\n",
    "    total_votes = 0\n",
    "    candidate_totals = {}\n",
    "    for row in reader:\n",
    "        total_votes += 1\n",
    "        if row[2] in candidate_totals:\n",
    "            candidate_totals[row[2]] += 1\n",
    "        else:\n",
    "            candidate_totals[row[2]] = 1\n",
    "    candidate_percentage = {}\n",
    "    for candidate in candidate_totals.keys():\n",
    "        candidate_percentage[candidate] = float(candidate_totals[candidate]/total_votes)*100\n",
    "    print(\"Election Results\")\n",
    "    print(\"-------------------------\")\n",
    "    for candidate in candidate_percentage:\n",
    "        print(f'{candidate}: {candidate_percentage[candidate]:.3f}% ({candidate_totals[candidate]})')\n",
    "    print(\"-------------------------\")\n",
    "    winner = \"\"\n",
    "    winner_percent = 0.0\n",
    "    for candidate in candidate_percentage:\n",
    "        if candidate_percentage[candidate] > winner_percent:\n",
    "            winner_percent = candidate_percentage[candidate]\n",
    "            winner = candidate\n",
    "    print(f'Winner: {winner}')\n",
    "    print(\"-------------------------\")"
   ]
  },
  {
   "cell_type": "code",
   "execution_count": null,
   "metadata": {},
   "outputs": [],
   "source": [
    "# final script should both print to terminal and export to a text file\n",
    "# also wrap all this in a main function and then call the function in the final script"
   ]
  }
 ],
 "metadata": {
  "kernelspec": {
   "display_name": "Python 3",
   "language": "python",
   "name": "python3"
  },
  "language_info": {
   "codemirror_mode": {
    "name": "ipython",
    "version": 3
   },
   "file_extension": ".py",
   "mimetype": "text/x-python",
   "name": "python",
   "nbconvert_exporter": "python",
   "pygments_lexer": "ipython3",
   "version": "3.6.10"
  }
 },
 "nbformat": 4,
 "nbformat_minor": 4
}
